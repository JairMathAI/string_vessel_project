{
 "cells": [
  {
   "cell_type": "markdown",
   "metadata": {},
   "source": [
    "<h2>Topological Feature Extraction</h2>\n",
    "\n",
    "The goal of this step is to **extract topological features** related to the segmentations predicted by the model. \n",
    "\n",
    "---\n",
    "\n",
    "<h3>Parameter Selection</h3>\n",
    "\n",
    "<b>Selected Features</b>:<br>\n",
    "    Topological characteristics desired to be calculated.<br>\n",
    "    \n",
    "<b>Base Path</b>:<br>\n",
    "    The path where the output files will be saved.<br>\n",
    "    \n",
    "<b>Segmentations Path</b>:<br>\n",
    "    The path to the folder where the segmentations given by the model are located.<br>\n",
    "    \n",
    "<b>Tile Size (K):</b>:<br>\n",
    "   Controls the dimension of the cubic tiles $(K\\times H\\times W)$ into which the 3D vessel segmentation image is divided for patch-wise Persistence     Image (PI_local) computation.\n",
    "  This allows for localized topological analysis by processing smaller, manageable sub-regions of the larger image.<br>\n",
    "  \n",
    "<b>Save NPY files</b>:<br>\n",
    "    Select if you want to save the NumPy arrays calculated during the execution.<br>\n",
    "    \n",
    "<b>Generate Graphs</b>:<br>\n",
    "    Select if you want to generate and save graph visualizations of the NumPy files.<br>\n",
    "    \n",
    "<b>Plot Per Patch (PI_local)</b>:<br>\n",
    "    Select if you want to save a plot per tile patch taken from the original image. If this isn't selected, the program will just save a mean plot for all patches.<br>\n",
    "\n",
    "<span style=\"color:red;\"><b>Important Notes:</b></span>\n",
    "\n",
    "This code is an adaptation of the code provided [here](https://github.com/TopoXLab/VesselAnalysis?tab=readme-ov-file),\n",
    "which is related to this [paper](https://arxiv.org/abs/2402.16894). You can refer to the paper for a detailed analysis."
   ]
  },
  {
   "cell_type": "code",
   "execution_count": null,
   "metadata": {},
   "outputs": [],
   "source": [
    "from core.topoextraction import generate_topological_menu\n",
    "generate_topological_menu()"
   ]
  }
 ],
 "metadata": {
  "kernelspec": {
   "display_name": "Python 3 (ipykernel)",
   "language": "python",
   "name": "python3"
  },
  "language_info": {
   "codemirror_mode": {
    "name": "ipython",
    "version": 3
   },
   "file_extension": ".py",
   "mimetype": "text/x-python",
   "name": "python",
   "nbconvert_exporter": "python",
   "pygments_lexer": "ipython3",
   "version": "3.11.13"
  },
  "vscode": {
   "interpreter": {
    "hash": "f0a6b497edbe280d9c9c3fe7b26d28e91277df791e6ef10dec6644aa4f1f4e76"
   }
  }
 },
 "nbformat": 4,
 "nbformat_minor": 4
}
