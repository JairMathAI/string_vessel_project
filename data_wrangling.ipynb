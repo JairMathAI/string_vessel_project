{
 "cells": [
  {
   "cell_type": "code",
   "execution_count": 8,
   "metadata": {},
   "outputs": [],
   "source": [
    "from aicsimageio import AICSImage\n",
    "from aicsimageio.writers import OmeTiffWriter\n",
    "import numpy as np\n",
    "from pathlib import Path"
   ]
  },
  {
   "cell_type": "markdown",
   "metadata": {},
   "source": [
    "The goal of this step is mainly to convert the source Leica file into individual 3D tiff files. For some data, the current python reader cannot load the channel dimenstion and the Z dimension correctly. So, we have to re-order the data. We only need such dimension fix on the very first dataset. For future data, just try to run without dimension fix. If the output is not correct, then re-run with dimension fix."
   ]
  },
  {
   "cell_type": "code",
   "execution_count": null,
   "metadata": {},
   "outputs": [],
   "source": [
    "# flag to select dimension_fix or not\n",
    "use_dim_fix = False\n",
    "\n",
    "# specific chanel index\n",
    "# currently, we assume the second channel (index=1) is CD31 and \n",
    "# the third channel (index=2) is Col IV (note: index is zero-based)\n",
    "get_channels = [1, 2]\n",
    "\n",
    "# add you file path\n",
    "src = Path(\"/path/to/string_vessel_data/\")\n",
    "\n",
    "# get all LIF images\n",
    "filenames = sorted(src.glob(\"*.lif\"))\n",
    "print(len(filenames))\n",
    "\n",
    "# specific where you want to save the splitted files\n",
    "out_path_base = Path(\"/path/to/output_folder/\")\n",
    "out_path_3d = out_path_base / Path(\"split_3d\")\n",
    "out_path_pred = out_path_base / Path(\"pred\")  # used for saving model prediction\n",
    "\n",
    "out_path_base.mkdir(parents=True, exist_ok=True)\n",
    "out_path_3d.mkdir(parents=True, exist_ok=True)\n",
    "out_path_pred.mkdir(parents=True, exist_ok=True)\n",
    "\n",
    "for fn in filenames:\n",
    "    reader = AICSImage(fn)\n",
    "    scene_list = reader.scenes\n",
    "    print(\"scene_list: \", scene_list)\n",
    "\n",
    "    # loop through all scenes\n",
    "    for sname in scene_list:\n",
    "        reader.set_scene(sname)\n",
    "        # get image data\n",
    "        img = reader.get_image_dask_data(\"CZYX\", T=0).compute()\n",
    "\n",
    "        # check if dimension_fix is necessary\n",
    "        if use_dim_fix:\n",
    "            img_re = np.zeros_like(img)\n",
    "            counter_z = 0\n",
    "            counter_c = 0\n",
    "            for c in range(img.shape[0]):\n",
    "                for z in range(img.shape[1]):\n",
    "                    img_re[counter_c, counter_z, :, :] = img[c, z, :, :]\n",
    "                    counter_c += 1\n",
    "                    if counter_c == img.shape[0]:\n",
    "                        counter_c = 0\n",
    "                        counter_z += 1\n",
    "            im = img_re[get_channels, :, :, :]\n",
    "        else:\n",
    "            im = img[get_channels, :, :, :]\n",
    "\n",
    "        # clean up filenames to get rid of spaces\n",
    "        sname = sname.replace(\"/\", \"_\")\n",
    "\n",
    "        # save individual multi-channel Tiff files\n",
    "        out_fn = out_path_3d / f\"{fn.stem}_{sname}.tiff\"\n",
    "        OmeTiffWriter.save(im, out_fn, dim_order=\"CZYX\")\n"
   ]
  }
 ],
 "metadata": {
  "kernelspec": {
   "display_name": "jc_workbench",
   "language": "python",
   "name": "python3"
  },
  "language_info": {
   "codemirror_mode": {
    "name": "ipython",
    "version": 3
   },
   "file_extension": ".py",
   "mimetype": "text/x-python",
   "name": "python",
   "nbconvert_exporter": "python",
   "pygments_lexer": "ipython3",
   "version": "3.11.4"
  },
  "orig_nbformat": 4,
  "vscode": {
   "interpreter": {
    "hash": "f0a6b497edbe280d9c9c3fe7b26d28e91277df791e6ef10dec6644aa4f1f4e76"
   }
  }
 },
 "nbformat": 4,
 "nbformat_minor": 2
}
