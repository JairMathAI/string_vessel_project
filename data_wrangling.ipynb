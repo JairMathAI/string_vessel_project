{
 "cells": [
  {
   "cell_type": "markdown",
   "metadata": {},
   "source": [
    "<h2>Data Wrangling</h2>\n",
    "\n",
    "The goal of this step is mainly to convert the source Leica file into individual 3D tiff files. For some data, the current python reader cannot load the channel dimenstion and the Z dimension correctly. So, we have to re-order the data. We only need such dimension fix on the very first dataset. \n",
    "\n",
    "Parameter selection\n",
    "\n",
    "<b>Use dimension fix</b>:<br>\n",
    "    For future data, just try to run without dimension fix. \n",
    "    If the output is not correct, then re-run with dimension fix.\n",
    "\n",
    "<b>Channels</b>:<br>\n",
    "        specific chanel index. Currently, we assume the second channel \n",
    "        (index=1) is CD31 and the third channel (index=2) is Col IV \n",
    "        (note: index is zero-based)\n",
    "        please provide comma-separated indices by default we use 1,2.\n",
    "        \n",
    "<b>LIF files path</b>:<br>\n",
    "        you file path to data /path/to/string_vessel_data/\n",
    "    \n",
    "<b>Output path</b>:<br>\n",
    "        specific where you want to save the splitted files\n",
    "        /path/to/output_folder/\n",
    "        \n",
    "    \n",
    "    \n",
    "    \n",
    "        \n",
    "   \n",
    "    "
   ]
  },
  {
   "cell_type": "code",
   "execution_count": 1,
   "metadata": {},
   "outputs": [
    {
     "name": "stdout",
     "output_type": "stream",
     "text": [
      "Loading LIF Image Processing Configuration...\n"
     ]
    },
    {
     "data": {
      "application/vnd.jupyter.widget-view+json": {
       "model_id": "fd234a44d8bd4a2ab1aeb3039df59e3c",
       "version_major": 2,
       "version_minor": 0
      },
      "text/plain": [
       "Checkbox(value=False, description='Use dimension fix?', indent=False)"
      ]
     },
     "metadata": {},
     "output_type": "display_data"
    },
    {
     "data": {
      "application/vnd.jupyter.widget-view+json": {
       "model_id": "131b5a4419a54aa5a3d0a03c697691b3",
       "version_major": 2,
       "version_minor": 0
      },
      "text/plain": [
       "Text(value='1, 2', continuous_update=False, description='Channels:')"
      ]
     },
     "metadata": {},
     "output_type": "display_data"
    },
    {
     "data": {
      "application/vnd.jupyter.widget-view+json": {
       "model_id": "f9c01efd6e744b1da98c90168509ac47",
       "version_major": 2,
       "version_minor": 0
      },
      "text/plain": [
       "Text(value='/path/to/string_vessel_data/', continuous_update=False, description='LIF files path:', layout=Layo…"
      ]
     },
     "metadata": {},
     "output_type": "display_data"
    },
    {
     "data": {
      "application/vnd.jupyter.widget-view+json": {
       "model_id": "1abe6586c509463aaf72e9c774e4c6c5",
       "version_major": 2,
       "version_minor": 0
      },
      "text/plain": [
       "Text(value='/path/to/output_folder/', continuous_update=False, description='Output path:', layout=Layout(width…"
      ]
     },
     "metadata": {},
     "output_type": "display_data"
    },
    {
     "data": {
      "application/vnd.jupyter.widget-view+json": {
       "model_id": "b421d641320d4f2e974ed397b890a2af",
       "version_major": 2,
       "version_minor": 0
      },
      "text/plain": [
       "Button(button_style='success', description='Run Processing', icon='play', style=ButtonStyle(), tooltip='Click …"
      ]
     },
     "metadata": {},
     "output_type": "display_data"
    },
    {
     "data": {
      "application/vnd.jupyter.widget-view+json": {
       "model_id": "330afc5a17044dcca08902066052dd3e",
       "version_major": 2,
       "version_minor": 0
      },
      "text/plain": [
       "Output()"
      ]
     },
     "metadata": {},
     "output_type": "display_data"
    }
   ],
   "source": [
    "from core.image_processor import run_image_processing_menu\n",
    "run_image_processing_menu()"
   ]
  },
  {
   "cell_type": "code",
   "execution_count": null,
   "metadata": {},
   "outputs": [],
   "source": []
  }
 ],
 "metadata": {
  "kernelspec": {
   "display_name": "Python 3 (ipykernel)",
   "language": "python",
   "name": "python3"
  },
  "language_info": {
   "codemirror_mode": {
    "name": "ipython",
    "version": 3
   },
   "file_extension": ".py",
   "mimetype": "text/x-python",
   "name": "python",
   "nbconvert_exporter": "python",
   "pygments_lexer": "ipython3",
   "version": "3.11.13"
  },
  "vscode": {
   "interpreter": {
    "hash": "f0a6b497edbe280d9c9c3fe7b26d28e91277df791e6ef10dec6644aa4f1f4e76"
   }
  }
 },
 "nbformat": 4,
 "nbformat_minor": 4
}
