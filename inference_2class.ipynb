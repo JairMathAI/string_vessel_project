{
 "cells": [
  {
   "cell_type": "markdown",
   "metadata": {},
   "source": [
    "<h2>Model Inference</h2>\n",
    "\n",
    "Now we will begin the actual processing.\n",
    "\n",
    "Simply run the cells and provide the required information in the menu.\n",
    "\n",
    "Parameter Selection:\n",
    "\n",
    "<b>YAML Path</b>:<br> \n",
    "Path to the inference configuration YAML file for prediction. You can choose from:<br><br>\n",
    "<b>semantic_seg_2d_inference_2class.yaml</b> — for the previous classic model and its retraining.<br><br>\n",
    "<b>probabilistic_semantic_seg2D_inference_2Class.yaml</b> — for the new probabilistic model.<br><br>\n",
    "\n",
    "<b>CKPT Path</b>:<br> Path to the model weights file corresponding to the chosen model:<br>\n",
    "\n",
    "<b>ClassicUnet_16_06_2025.ckpt</b> — for the retrained classic model.<br><br>\n",
    "\n",
    "<b>ProbUnet_16_06_2025.ckpt</b> — for the new probabilistic model..<br><br>\n",
    "\n",
    "These .ckpt files are available for download at the following link: [LINK](https://ambiomcloud.isas.de/index.php/s/CwcfFRt8eQ9gKWj).\n",
    "\n",
    " <b>Input base path</b>:<br>  Path to the input files. This should correspond to the out_path_base defined in the data wrangling notebook.    "
   ]
  },
  {
   "cell_type": "code",
   "execution_count": 1,
   "metadata": {
    "scrolled": true
   },
   "outputs": [
    {
     "data": {
      "application/vnd.jupyter.widget-view+json": {
       "model_id": "8b9fc175a4014698b7a8f332c0416373",
       "version_major": 2,
       "version_minor": 0
      },
      "text/plain": [
       "Text(value='./semantic_seg_2d_inference_2class.yaml', description='YAML Path:', layout=Layout(width='80%'), pl…"
      ]
     },
     "metadata": {},
     "output_type": "display_data"
    },
    {
     "data": {
      "application/vnd.jupyter.widget-view+json": {
       "model_id": "a310bbaf72e84aa7988068998b85e2ba",
       "version_major": 2,
       "version_minor": 0
      },
      "text/plain": [
       "Text(value='./version_2023_06.ckpt', description='CKPT Path:', layout=Layout(width='80%'), placeholder='Weight…"
      ]
     },
     "metadata": {},
     "output_type": "display_data"
    },
    {
     "data": {
      "application/vnd.jupyter.widget-view+json": {
       "model_id": "0ec88c7f45734cfcb8a2a9f118f4f346",
       "version_major": 2,
       "version_minor": 0
      },
      "text/plain": [
       "Text(value='/path/to/splitted/3d/files', description='Input base path:', layout=Layout(width='80%'), placehold…"
      ]
     },
     "metadata": {},
     "output_type": "display_data"
    },
    {
     "data": {
      "application/vnd.jupyter.widget-view+json": {
       "model_id": "6b4dadf75a7b4c349d18da89ceeafcda",
       "version_major": 2,
       "version_minor": 0
      },
      "text/plain": [
       "Button(button_style='success', description='Run Inference', style=ButtonStyle())"
      ]
     },
     "metadata": {},
     "output_type": "display_data"
    },
    {
     "data": {
      "application/vnd.jupyter.widget-view+json": {
       "model_id": "2c3dba9a96cf44b69d0ba38ada20af42",
       "version_major": 2,
       "version_minor": 0
      },
      "text/plain": [
       "Output()"
      ]
     },
     "metadata": {},
     "output_type": "display_data"
    }
   ],
   "source": [
    "from core.inference import create_inference_menu\n",
    "create_inference_menu()"
   ]
  }
 ],
 "metadata": {
  "kernelspec": {
   "display_name": "Python 3 (ipykernel)",
   "language": "python",
   "name": "python3"
  },
  "language_info": {
   "codemirror_mode": {
    "name": "ipython",
    "version": 3
   },
   "file_extension": ".py",
   "mimetype": "text/x-python",
   "name": "python",
   "nbconvert_exporter": "python",
   "pygments_lexer": "ipython3",
   "version": "3.11.13"
  },
  "vscode": {
   "interpreter": {
    "hash": "f0a6b497edbe280d9c9c3fe7b26d28e91277df791e6ef10dec6644aa4f1f4e76"
   }
  }
 },
 "nbformat": 4,
 "nbformat_minor": 4
}
