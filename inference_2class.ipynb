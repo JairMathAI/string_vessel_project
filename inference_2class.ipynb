{
 "cells": [
  {
   "cell_type": "markdown",
   "metadata": {},
   "source": [
    "<h2>Model Inference</h2>\n",
    "\n",
    "Now we will begin the actual processing.\n",
    "\n",
    "Simply run the cells and provide the required information in the menu.\n",
    "\n",
    "Parameter Selection:\n",
    "\n",
    "<b>YAML Path</b>:<br> \n",
    "Path to the inference configuration YAML file for prediction. You can choose from:<br><br>\n",
    "<b>semantic_seg_2d_inference_2class.yaml</b> — for the previous classic model and its retraining.<br><br>\n",
    "<b>probabilistic_semantic_seg2D_inference_2Class.yaml</b> — for the new probabilistic model.<br><br>\n",
    "\n",
    "<b>CKPT Path</b>:<br> Path to the model weights file corresponding to the chosen model:<br>\n",
    "\n",
    "<b>ClassicUnet_16_06_2025.ckpt</b> — for the retrained classic model.<br><br>\n",
    "\n",
    "<b>ProbUnet_16_06_2025.ckpt</b> — for the new probabilistic model..<br><br>\n",
    "\n",
    "These .ckpt files are available for download at the following link: [LINK](https://ambiomcloud.isas.de/index.php/s/CwcfFRt8eQ9gKWj).\n",
    "\n",
    " <b>Input base path</b>:<br>  Path to the input files. This should correspond to the out_path_base defined in the data wrangling notebook.\n",
    "\n",
    " <b>Use Max projection</b>:<br> \n",
    " If activated, the model will run inference on a maximum intensity projection of the $3D$ input volume. This projection collapses the $Z$ spatial dimension by taking the highest pixel value along that axis, creating a $(C,1,Y, X)$ image for the model to process.<br><br>\n",
    "\n",
    "  <b>Apply Remove Small Objects</b>:<br>\n",
    "  Removes small, isolated regions in the segmentation output. It requires one or more values representing the minimum size in pixels an object must have to be kept. Objects smaller than this threshold will be deleted.<br>\n",
    "  <span style=\"color:red;\"><b>Note:</b></span>\n",
    "  Enter a comma-separated list of sizes, one for each target object class. If you provide only a single number, that threshold will be applied to all object classes.<br><br>\n",
    "  <b>Apply Small Holes Correction</b>:<br> \n",
    "  Fixes small errors by filling in holes within segmented objects. It requires one or more values representing the maximum area in pixels a hole must have to be filled. Holes larger than this threshold are considered genuine features and will remain open.<br>\n",
    "  <span style=\"color:red;\"><b>Note:</b></span>\n",
    "  Enter a comma-separated list of areas, one for each target object class. If you provide only a single number, that threshold will be applied to all object classes.<br><br>\n",
    "\n",
    "  <b>Apply Thickness Adjustment</b>:<br> \n",
    "  Applies topology-preserving thinning to the segmented objects. Its purpose is to reduce the thickness of the objects, to a minimal representation while ensuring that the connectivity and general shape of the original object are maintained.<br>\n",
    "  Enter a comma-separated list of minimum thickness values, one for each target object class. If you provide only a single number, that threshold will be applied to all object classes.<br>\n",
    "  <span style=\"color:red;\"><b>Note:</b></span>\n",
    "  To prevent the Thickness Adjustment (thinning) from being applied to a specific object class, set its corresponding minimum thickness value to a number significantly larger than the maximum possible thickness of any object in your volume (e.g., use 1000).<br> \n",
    "  This high value acts as a safeguard, ensuring the object's thickness   constraint is never met, thus leaving the object unmodified.<br><br>\n",
    "\n",
    "  <b>Apply Pericytes Correction</b>:<br>\n",
    "  It is designed to remove small, round, and compact objects.<br><br>\n",
    "\n",
    "\n",
    " <span style=\"color:red;\"><b>Shape Notes:</b></span>\n",
    "\n",
    " For the correct prediction the model require the input shape of the volumes in the format \n",
    " $(C,Z,Y, X)$"
   ]
  },
  {
   "cell_type": "code",
   "execution_count": null,
   "metadata": {},
   "outputs": [],
   "source": [
    "from core.inference import create_inference_menu\n",
    "create_inference_menu()"
   ]
  }
 ],
 "metadata": {
  "kernelspec": {
   "display_name": "Python 3 (ipykernel)",
   "language": "python",
   "name": "python3"
  },
  "language_info": {
   "codemirror_mode": {
    "name": "ipython",
    "version": 3
   },
   "file_extension": ".py",
   "mimetype": "text/x-python",
   "name": "python",
   "nbconvert_exporter": "python",
   "pygments_lexer": "ipython3",
   "version": "3.11.14"
  },
  "vscode": {
   "interpreter": {
    "hash": "f0a6b497edbe280d9c9c3fe7b26d28e91277df791e6ef10dec6644aa4f1f4e76"
   }
  }
 },
 "nbformat": 4,
 "nbformat_minor": 4
}
